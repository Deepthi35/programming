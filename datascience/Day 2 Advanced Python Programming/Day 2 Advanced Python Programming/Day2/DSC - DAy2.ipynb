{
 "cells": [
  {
   "cell_type": "code",
   "execution_count": 10,
   "id": "e65ecf41",
   "metadata": {},
   "outputs": [
    {
     "name": "stdout",
     "output_type": "stream",
     "text": [
      "r\n",
      "(9.9, 45)\n"
     ]
    }
   ],
   "source": [
    "samptup = ('parrot',0,9.9,45)\n",
    "print(samptup[0][2])\n",
    "print(samptup[2:5])"
   ]
  },
  {
   "cell_type": "code",
   "execution_count": 6,
   "id": "38453ff9",
   "metadata": {},
   "outputs": [
    {
     "name": "stdout",
     "output_type": "stream",
     "text": [
      "Name :  Zara , Salary:  2000\n",
      "Name :  Manni , Salary:  5000\n",
      "Total Employee 2\n"
     ]
    }
   ],
   "source": [
    "class Employee: \n",
    "    'Common base class for all employees' \n",
    "    empCount = 0 \n",
    "    def __init__(self, name, salary): \n",
    "         self.name = name \n",
    "         self.salary = salary \n",
    "         Employee.empCount += 1 \n",
    "    def displayCount(self): \n",
    "          print(\"Total Employee %d\" % Employee.empCount)\n",
    "    def displayEmployee(self): \n",
    "        print(\"Name : \", self.name, \", Salary: \", self.salary) \n",
    "\"This would create first object of Employee class\" \n",
    "emp1 = Employee(\"Zara\", 2000) \n",
    "\"This would create second object of Employee class\" \n",
    "emp2 = Employee(\"Manni\", 5000) \n",
    "emp1.displayEmployee()\n",
    "emp2.displayEmployee() \n",
    "print (\"Total Employee %d\" % Employee.empCount)\n"
   ]
  },
  {
   "cell_type": "code",
   "execution_count": 8,
   "id": "c22fb6c0",
   "metadata": {},
   "outputs": [
    {
     "name": "stdout",
     "output_type": "stream",
     "text": [
      "Calling child constructor\n",
      "Calling child method\n",
      "Parent attribute : 200\n"
     ]
    }
   ],
   "source": [
    "class Parent: # define parent class \n",
    "      parentAttr = 100 \n",
    "      def __init__(self): \n",
    "           print(\"Calling parent constructor\") \n",
    "      def parentMethod(self): \n",
    "            print('Calling parent method') \n",
    "      def setAttr(self, attr): \n",
    "            Parent.parentAttr = attr \n",
    "      def getAttr(self): \n",
    "            print(\"Parent attribute :\", Parent.parentAttr)\n",
    "class Child(Parent): # define child class \n",
    "     def __init__(self): \n",
    "           print(\"Calling child constructor\") \n",
    "     def childMethod(self): \n",
    "          print('Calling child method') \n",
    "c = Child() # instance of child \n",
    "c.childMethod() # child calls its method \n",
    "c.setAttr(200) # again call parent's method \n",
    "c.getAttr() # again call parent's method\n"
   ]
  },
  {
   "cell_type": "code",
   "execution_count": null,
   "id": "78917bf9",
   "metadata": {},
   "outputs": [],
   "source": []
  }
 ],
 "metadata": {
  "kernelspec": {
   "display_name": "Python 3",
   "language": "python",
   "name": "python3"
  },
  "language_info": {
   "codemirror_mode": {
    "name": "ipython",
    "version": 3
   },
   "file_extension": ".py",
   "mimetype": "text/x-python",
   "name": "python",
   "nbconvert_exporter": "python",
   "pygments_lexer": "ipython3",
   "version": "3.8.8"
  }
 },
 "nbformat": 4,
 "nbformat_minor": 5
}
