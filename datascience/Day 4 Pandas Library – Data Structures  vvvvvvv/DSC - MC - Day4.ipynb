{
 "cells": [
  {
   "cell_type": "code",
   "execution_count": 1,
   "id": "4bdadeab",
   "metadata": {},
   "outputs": [
    {
     "name": "stdout",
     "output_type": "stream",
     "text": [
      "1    8\n",
      "2    8\n",
      "3    8\n",
      "4    8\n",
      "5    8\n",
      "dtype: int64\n"
     ]
    }
   ],
   "source": [
    "import pandas as pd\n",
    "exser = pd.Series(8,index=[1,2,3,4,5])\n",
    "print(exser)"
   ]
  },
  {
   "cell_type": "code",
   "execution_count": 4,
   "id": "d3ddfba1",
   "metadata": {},
   "outputs": [
    {
     "name": "stdout",
     "output_type": "stream",
     "text": [
      "67\n",
      "0     9\n",
      "1     8\n",
      "2    67\n",
      "dtype: int64\n",
      "2    67\n",
      "3    54\n",
      "4    12\n",
      "dtype: int64\n"
     ]
    }
   ],
   "source": [
    "import pandas as pd\n",
    "jk = pd.Series([9,8,67,54,12])\n",
    "print(jk[2])\n",
    "print(jk[:3])\n",
    "print(jk[-3:])"
   ]
  },
  {
   "cell_type": "code",
   "execution_count": 5,
   "id": "5763dab6",
   "metadata": {},
   "outputs": [
    {
     "name": "stdout",
     "output_type": "stream",
     "text": [
      "Empty DataFrame\n",
      "Columns: []\n",
      "Index: []\n"
     ]
    }
   ],
   "source": [
    "import pandas as pd\n",
    "kl = pd.DataFrame()\n",
    "print(kl)"
   ]
  },
  {
   "cell_type": "code",
   "execution_count": 6,
   "id": "b78af6e4",
   "metadata": {},
   "outputs": [
    {
     "name": "stdout",
     "output_type": "stream",
     "text": [
      "           0\n",
      "0       rose\n",
      "1  sunflower\n",
      "2    jasmine\n",
      "3      lilly\n"
     ]
    }
   ],
   "source": [
    "import pandas as pd\n",
    "samplis = ['rose','sunflower','jasmine','lilly']\n",
    "df1 = pd.DataFrame(samplis)\n",
    "print(df1)"
   ]
  },
  {
   "cell_type": "code",
   "execution_count": 7,
   "id": "5437207a",
   "metadata": {},
   "outputs": [
    {
     "name": "stdout",
     "output_type": "stream",
     "text": [
      "     Name  Age\n",
      "0     Sam   23\n",
      "1   Peter   45\n",
      "2    mala   68\n",
      "3  geetha   12\n"
     ]
    }
   ],
   "source": [
    "import pandas as pd\n",
    "fgdic = {'Name':['Sam','Peter','mala','geetha'],'Age':[23,45,68,12]}\n",
    "kl = pd.DataFrame(fgdic)\n",
    "print(kl)"
   ]
  },
  {
   "cell_type": "code",
   "execution_count": 14,
   "id": "891aec9b",
   "metadata": {},
   "outputs": [
    {
     "name": "stdout",
     "output_type": "stream",
     "text": [
      "one    4.0\n",
      "two    NaN\n",
      "Name: pi2, dtype: float64\n"
     ]
    }
   ],
   "source": [
    "import pandas as pd\n",
    "dt = {'one':pd.Series([23,4,5,7],index=['pi1','pi2','pi3','pi4']),'two':pd.Series([45,67,89,90],index=['rk1','rk2','rk3','rk4'])}\n",
    "lk = pd.DataFrame(dt)\n",
    "print(lk.loc['pi2'])"
   ]
  },
  {
   "cell_type": "code",
   "execution_count": null,
   "id": "7d1c18df",
   "metadata": {},
   "outputs": [],
   "source": []
  }
 ],
 "metadata": {
  "kernelspec": {
   "display_name": "Python 3",
   "language": "python",
   "name": "python3"
  },
  "language_info": {
   "codemirror_mode": {
    "name": "ipython",
    "version": 3
   },
   "file_extension": ".py",
   "mimetype": "text/x-python",
   "name": "python",
   "nbconvert_exporter": "python",
   "pygments_lexer": "ipython3",
   "version": "3.8.8"
  }
 },
 "nbformat": 4,
 "nbformat_minor": 5
}
