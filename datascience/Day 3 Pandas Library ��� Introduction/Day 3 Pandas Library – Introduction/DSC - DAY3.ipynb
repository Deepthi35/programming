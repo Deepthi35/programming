{
 "cells": [
  {
   "cell_type": "code",
   "execution_count": 1,
   "id": "62aeaf07",
   "metadata": {},
   "outputs": [
    {
     "name": "stdout",
     "output_type": "stream",
     "text": [
      "Series([], dtype: float64)\n"
     ]
    },
    {
     "name": "stderr",
     "output_type": "stream",
     "text": [
      "<ipython-input-1-d4a3091fe2ed>:2: DeprecationWarning: The default dtype for empty Series will be 'object' instead of 'float64' in a future version. Specify a dtype explicitly to silence this warning.\n",
      "  hj = pd.Series()\n"
     ]
    }
   ],
   "source": [
    "import pandas as pd\n",
    "hj = pd.Series()\n",
    "print(hj)"
   ]
  },
  {
   "cell_type": "code",
   "execution_count": 2,
   "id": "d6173097",
   "metadata": {},
   "outputs": [
    {
     "name": "stdout",
     "output_type": "stream",
     "text": [
      "['t' 'r' 's' 'y']\n"
     ]
    }
   ],
   "source": [
    "import pandas as pd\n",
    "import numpy as np\n",
    "arr1 = np.array(['t','r','s','y'])\n",
    "kl = pd.Series(arr1)\n",
    "print(arr1)"
   ]
  },
  {
   "cell_type": "code",
   "execution_count": 3,
   "id": "4f626be3",
   "metadata": {},
   "outputs": [
    {
     "name": "stdout",
     "output_type": "stream",
     "text": [
      "10    p\n",
      "11    o\n",
      "12    s\n",
      "13    e\n",
      "dtype: object\n"
     ]
    }
   ],
   "source": [
    "import pandas as pd\n",
    "import numpy as np\n",
    "jk = np.array(['p','o','s','e'])\n",
    "kl = pd.Series(jk,index=[10,11,12,13])\n",
    "print(kl)"
   ]
  },
  {
   "cell_type": "code",
   "execution_count": 4,
   "id": "041e5dc6",
   "metadata": {},
   "outputs": [
    {
     "name": "stdout",
     "output_type": "stream",
     "text": [
      "p     1.0\n",
      "h    89.0\n",
      "l    90.0\n",
      "dtype: float64\n"
     ]
    }
   ],
   "source": [
    "import pandas as pd\n",
    "dict1 = {'p':1.,'h':89.,'l':90.}\n",
    "sampser = pd.Series(dict1)\n",
    "print(sampser)"
   ]
  },
  {
   "cell_type": "code",
   "execution_count": 8,
   "id": "0016da45",
   "metadata": {},
   "outputs": [
    {
     "name": "stdout",
     "output_type": "stream",
     "text": [
      "l    14.0\n",
      "o    12.0\n",
      "p     NaN\n",
      "dtype: float64\n"
     ]
    }
   ],
   "source": [
    "import pandas as pd\n",
    "jk = {'o':12.,'l':14.,'y':16.}\n",
    "panser = pd.Series(jk,index=['l','o','p'])\n",
    "print(panser)"
   ]
  },
  {
   "cell_type": "code",
   "execution_count": null,
   "id": "848fa290",
   "metadata": {},
   "outputs": [],
   "source": []
  }
 ],
 "metadata": {
  "kernelspec": {
   "display_name": "Python 3",
   "language": "python",
   "name": "python3"
  },
  "language_info": {
   "codemirror_mode": {
    "name": "ipython",
    "version": 3
   },
   "file_extension": ".py",
   "mimetype": "text/x-python",
   "name": "python",
   "nbconvert_exporter": "python",
   "pygments_lexer": "ipython3",
   "version": "3.8.8"
  }
 },
 "nbformat": 4,
 "nbformat_minor": 5
}
