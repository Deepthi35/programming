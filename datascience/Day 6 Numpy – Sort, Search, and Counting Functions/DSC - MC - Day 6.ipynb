{
 "cells": [
  {
   "cell_type": "code",
   "execution_count": 1,
   "id": "0fcf583a",
   "metadata": {},
   "outputs": [
    {
     "name": "stdout",
     "output_type": "stream",
     "text": [
      "4\n"
     ]
    }
   ],
   "source": [
    "import numpy as np\n",
    "jk = np.array([1,2,3,4,6])\n",
    "print(jk.itemsize)"
   ]
  },
  {
   "cell_type": "code",
   "execution_count": 2,
   "id": "da39cea6",
   "metadata": {},
   "outputs": [
    {
     "name": "stdout",
     "output_type": "stream",
     "text": [
      "[5 6 7]\n"
     ]
    }
   ],
   "source": [
    "import numpy as np\n",
    "smp = [5,6,7]\n",
    "lk = np.asarray(smp)\n",
    "print(lk)"
   ]
  },
  {
   "cell_type": "code",
   "execution_count": 4,
   "id": "979e027c",
   "metadata": {},
   "outputs": [
    {
     "name": "stdout",
     "output_type": "stream",
     "text": [
      "[3 6]\n"
     ]
    }
   ],
   "source": [
    "import numpy as np\n",
    "a = np.arange(10)\n",
    "s = slice(3,9,3)\n",
    "lp = a[s]\n",
    "print(lp)"
   ]
  },
  {
   "cell_type": "code",
   "execution_count": 5,
   "id": "44a184db",
   "metadata": {},
   "outputs": [
    {
     "name": "stdout",
     "output_type": "stream",
     "text": [
      "[2 4 6]\n"
     ]
    }
   ],
   "source": [
    "import numpy as np\n",
    "kl = np.arange(10)\n",
    "l = kl[2:7:2]\n",
    "print(l)"
   ]
  },
  {
   "cell_type": "code",
   "execution_count": 6,
   "id": "5cb0067c",
   "metadata": {},
   "outputs": [
    {
     "name": "stdout",
     "output_type": "stream",
     "text": [
      "0\n",
      "5\n",
      "10\n",
      "15\n",
      "20\n",
      "25\n",
      "30\n",
      "35\n",
      "40\n",
      "45\n",
      "50\n",
      "55\n"
     ]
    }
   ],
   "source": [
    "import numpy as np\n",
    "kl = np.arange(0,60,5)\n",
    "kl = kl.reshape(3,4)\n",
    "for x in np.nditer(kl):\n",
    "    print(x)"
   ]
  },
  {
   "cell_type": "code",
   "execution_count": 7,
   "id": "7412cbb1",
   "metadata": {},
   "outputs": [
    {
     "name": "stdout",
     "output_type": "stream",
     "text": [
      "[1. 4. 4. 8.]\n"
     ]
    }
   ],
   "source": [
    "import numpy as np\n",
    "arr1 = np.array([1.2,3.567,4.5,7.89])\n",
    "print(np.around(arr1))"
   ]
  },
  {
   "cell_type": "code",
   "execution_count": null,
   "id": "d5dcf2fe",
   "metadata": {},
   "outputs": [],
   "source": []
  }
 ],
 "metadata": {
  "kernelspec": {
   "display_name": "Python 3",
   "language": "python",
   "name": "python3"
  },
  "language_info": {
   "codemirror_mode": {
    "name": "ipython",
    "version": 3
   },
   "file_extension": ".py",
   "mimetype": "text/x-python",
   "name": "python",
   "nbconvert_exporter": "python",
   "pygments_lexer": "ipython3",
   "version": "3.8.8"
  }
 },
 "nbformat": 4,
 "nbformat_minor": 5
}
