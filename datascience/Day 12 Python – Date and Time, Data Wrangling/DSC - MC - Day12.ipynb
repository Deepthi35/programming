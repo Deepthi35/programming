{
 "cells": [
  {
   "cell_type": "code",
   "execution_count": 1,
   "id": "56cf002b",
   "metadata": {},
   "outputs": [
    {
     "name": "stdout",
     "output_type": "stream",
     "text": [
      "The Date Today is : 2022-01-31 18:21:15.718948\n",
      "2022-01-31\n",
      "This Year : 2022\n",
      "This Month : 1\n",
      "Month Name: January\n",
      "This Week Day : 31\n",
      "Week Day Name: Monday\n"
     ]
    }
   ],
   "source": [
    "import datetime\n",
    "print ('The Date Today is :', datetime.datetime.today())\n",
    "date_today = datetime.date.today() \n",
    "print (date_today) \n",
    "print ('This Year :', date_today.year) \n",
    "print ('This Month :', date_today.month) \n",
    "print ('Month Name:',date_today.strftime('%B')) \n",
    "print ('This Week Day :', date_today.day) \n",
    "print ('Week Day Name:',date_today.strftime('%A'))\n"
   ]
  },
  {
   "cell_type": "code",
   "execution_count": 2,
   "id": "c07b6e53",
   "metadata": {},
   "outputs": [
    {
     "name": "stdout",
     "output_type": "stream",
     "text": [
      "day1: Mon Feb 12 00:00:00 2018\n",
      "day2: Fri Aug 18 00:00:00 2017\n",
      "Number of Days: 178 days, 0:00:00\n"
     ]
    }
   ],
   "source": [
    "import datetime \n",
    "#Capture the First Date \n",
    "day1 = datetime.date(2018, 2, 12) \n",
    "print ('day1:', day1.ctime()) \n",
    "# Capture the Second Date\n",
    "day2 = datetime.date(2017, 8, 18) \n",
    "print ('day2:', day2.ctime())\n",
    "# Find the difference between the dates\n",
    "print ('Number of Days:', day1-day2)\n"
   ]
  },
  {
   "cell_type": "code",
   "execution_count": 4,
   "id": "8eaad9ac",
   "metadata": {},
   "outputs": [
    {
     "name": "stdout",
     "output_type": "stream",
     "text": [
      "Before Four Days: 2022-01-27\n",
      "After Four Days: 2022-02-04\n"
     ]
    }
   ],
   "source": [
    "import datetime\n",
    "date_today = datetime.date.today() \n",
    "# Create a delta of Four Days \n",
    "no_of_days = datetime.timedelta(days=4) \n",
    "# Use Delta for Past Date\n",
    "before_four_days = date_today - no_of_days \n",
    "print ('Before Four Days:', before_four_days )\n",
    "# Use Delta for future Date \n",
    "after_four_days = date_today + no_of_days \n",
    "print ('After Four Days:', after_four_days )\n"
   ]
  },
  {
   "cell_type": "code",
   "execution_count": 5,
   "id": "c65f22d7",
   "metadata": {},
   "outputs": [
    {
     "name": "stdout",
     "output_type": "stream",
     "text": [
      "Today is:  2022-01-31\n",
      "Before Four Days: 2022-01-27\n",
      "date1: 2018-04-04\n",
      "Past Date\n",
      "Future Date\n"
     ]
    }
   ],
   "source": [
    "import datetime \n",
    "date_today = datetime.date.today() \n",
    "print ('Today is: ', date_today) \n",
    "# Create a delta of Four Days \n",
    "no_of_days = datetime.timedelta(days=4) \n",
    "# Use Delta for Past Date \n",
    "before_four_days = date_today - no_of_days \n",
    "print ('Before Four Days:', before_four_days) \n",
    "after_four_days = date_today + no_of_days \n",
    "date1 = datetime.date(2018,4,4)\n",
    "print ('date1:',date1) \n",
    "if (date1 == before_four_days): \n",
    "     print ('Same Dates') \n",
    "if (date_today > date1): \n",
    "     print ('Past Date') \n",
    "if (date1 < after_four_days): \n",
    "     print ('Future Date')\n"
   ]
  },
  {
   "cell_type": "code",
   "execution_count": null,
   "id": "9bf9596c",
   "metadata": {},
   "outputs": [],
   "source": []
  }
 ],
 "metadata": {
  "kernelspec": {
   "display_name": "Python 3",
   "language": "python",
   "name": "python3"
  },
  "language_info": {
   "codemirror_mode": {
    "name": "ipython",
    "version": 3
   },
   "file_extension": ".py",
   "mimetype": "text/x-python",
   "name": "python",
   "nbconvert_exporter": "python",
   "pygments_lexer": "ipython3",
   "version": "3.8.8"
  }
 },
 "nbformat": 4,
 "nbformat_minor": 5
}
