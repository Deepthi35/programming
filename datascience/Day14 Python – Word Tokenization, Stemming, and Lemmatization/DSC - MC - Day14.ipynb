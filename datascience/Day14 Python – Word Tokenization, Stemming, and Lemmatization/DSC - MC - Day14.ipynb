{
 "cells": [
  {
   "cell_type": "code",
   "execution_count": 1,
   "id": "d6a1b0be",
   "metadata": {},
   "outputs": [
    {
     "name": "stdout",
     "output_type": "stream",
     "text": [
      "['It', 'originated', 'from', 'the', 'idea', 'that', 'there', 'are', 'readers', 'who', 'prefer', 'learning', 'new', 'skills', 'from', 'the', 'comforts', 'of', 'their', 'drawing', 'rooms']\n"
     ]
    }
   ],
   "source": [
    "import nltk \n",
    "\n",
    "word_data = \"It originated from the idea that there are readers who prefer learning new skills from the comforts of their drawing rooms\" \n",
    "nltk_tokens = nltk.word_tokenize(word_data)\n",
    "print (nltk_tokens)\n"
   ]
  },
  {
   "cell_type": "code",
   "execution_count": 2,
   "id": "b2252eee",
   "metadata": {},
   "outputs": [
    {
     "name": "stdout",
     "output_type": "stream",
     "text": [
      "['Sun rises in the east.', 'Sun sets in the west.']\n"
     ]
    }
   ],
   "source": [
    "import nltk \n",
    "sentence_data = \"Sun rises in the east. Sun sets in the west.\" \n",
    "nltk_tokens = nltk.sent_tokenize(sentence_data) \n",
    "print (nltk_tokens)\n"
   ]
  },
  {
   "cell_type": "code",
   "execution_count": 4,
   "id": "26930758",
   "metadata": {},
   "outputs": [
    {
     "name": "stdout",
     "output_type": "stream",
     "text": [
      "Actual: It Stem: it\n",
      "Actual: originated Stem: origin\n",
      "Actual: from Stem: from\n",
      "Actual: the Stem: the\n",
      "Actual: idea Stem: idea\n",
      "Actual: that Stem: that\n",
      "Actual: there Stem: there\n",
      "Actual: are Stem: are\n",
      "Actual: readers Stem: reader\n",
      "Actual: who Stem: who\n",
      "Actual: prefer Stem: prefer\n",
      "Actual: learning Stem: learn\n",
      "Actual: new Stem: new\n",
      "Actual: skills Stem: skill\n",
      "Actual: from Stem: from\n",
      "Actual: the Stem: the\n",
      "Actual: comforts Stem: comfort\n",
      "Actual: of Stem: of\n",
      "Actual: their Stem: their\n",
      "Actual: drawing Stem: draw\n",
      "Actual: rooms Stem: room\n"
     ]
    }
   ],
   "source": [
    "import nltk \n",
    "from nltk.stem.porter import PorterStemmer \n",
    "porter_stemmer = PorterStemmer() \n",
    "word_data = \"It originated from the idea that there are readers who prefer learning new skills from the comforts of their drawing rooms\"\n",
    "# First Word tokenization \n",
    "nltk_tokens = nltk.word_tokenize(word_data) \n",
    "#Next find the roots of the word \n",
    "for w in nltk_tokens: \n",
    "       print (\"Actual: %s Stem: %s\" % (w,porter_stemmer.stem(w)))\n"
   ]
  },
  {
   "cell_type": "code",
   "execution_count": 5,
   "id": "9125d7d7",
   "metadata": {},
   "outputs": [
    {
     "name": "stdout",
     "output_type": "stream",
     "text": [
      "Actual: It Lemma: It\n",
      "Actual: originated Lemma: originated\n",
      "Actual: from Lemma: from\n",
      "Actual: the Lemma: the\n",
      "Actual: idea Lemma: idea\n",
      "Actual: that Lemma: that\n",
      "Actual: there Lemma: there\n",
      "Actual: are Lemma: are\n",
      "Actual: readers Lemma: reader\n",
      "Actual: who Lemma: who\n",
      "Actual: prefer Lemma: prefer\n",
      "Actual: learning Lemma: learning\n",
      "Actual: new Lemma: new\n",
      "Actual: skills Lemma: skill\n",
      "Actual: from Lemma: from\n",
      "Actual: the Lemma: the\n",
      "Actual: comforts Lemma: comfort\n",
      "Actual: of Lemma: of\n",
      "Actual: their Lemma: their\n",
      "Actual: drawing Lemma: drawing\n",
      "Actual: rooms Lemma: room\n"
     ]
    }
   ],
   "source": [
    "import nltk \n",
    "from nltk.stem import WordNetLemmatizer \n",
    "wordnet_lemmatizer = WordNetLemmatizer() \n",
    "word_data = \"It originated from the idea that there are readers who prefer learning new skills from the comforts of their drawing rooms\" \n",
    "nltk_tokens = nltk.word_tokenize(word_data) \n",
    "for w in nltk_tokens: \n",
    "       print (\"Actual: %s Lemma: %s\" % (w,wordnet_lemmatizer.lemmatize(w)))\n"
   ]
  },
  {
   "cell_type": "code",
   "execution_count": null,
   "id": "22b5bd0f",
   "metadata": {},
   "outputs": [],
   "source": []
  }
 ],
 "metadata": {
  "kernelspec": {
   "display_name": "Python 3",
   "language": "python",
   "name": "python3"
  },
  "language_info": {
   "codemirror_mode": {
    "name": "ipython",
    "version": 3
   },
   "file_extension": ".py",
   "mimetype": "text/x-python",
   "name": "python",
   "nbconvert_exporter": "python",
   "pygments_lexer": "ipython3",
   "version": "3.8.8"
  }
 },
 "nbformat": 4,
 "nbformat_minor": 5
}
