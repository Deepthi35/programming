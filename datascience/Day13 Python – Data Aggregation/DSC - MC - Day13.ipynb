{
 "cells": [
  {
   "cell_type": "code",
   "execution_count": 2,
   "id": "cd335e49",
   "metadata": {},
   "outputs": [
    {
     "name": "stdout",
     "output_type": "stream",
     "text": [
      "      Team  Rank  Year  Points\n",
      "1   Riders     2  2015     789\n",
      "3   Devils     3  2015     673\n",
      "5    kings     4  2015     812\n",
      "10  Royals     1  2015     804\n"
     ]
    }
   ],
   "source": [
    "# import the pandas library \n",
    "import pandas as pd \n",
    "ipl_data = {'Team': ['Riders', 'Riders', 'Devils', 'Devils', 'Kings', \n",
    "                  'kings', 'Kings', 'Kings', 'Riders', 'Royals', 'Royals', 'Riders'],                                                                                                         'Rank': [1, 2, 2, 3, 3,4 ,1 ,1,2 , 4,1,2], \n",
    "     'Year': [2014,2015,2014,2015,2014,2015,2016,2017,2016,2014,2015,2017],       'Points':[876,789,863,673,741,812,756,788,694,701,804,690]} \n",
    "df = pd.DataFrame(ipl_data) \n",
    "grouped = df.groupby('Year') \n",
    "print (grouped.get_group(2015))\n"
   ]
  },
  {
   "cell_type": "code",
   "execution_count": 10,
   "id": "0573d34c",
   "metadata": {},
   "outputs": [
    {
     "name": "stdout",
     "output_type": "stream",
     "text": [
      "   id    Name subject_id\n",
      "0   1    Alex       sub1\n",
      "1   2     Amy       sub2\n",
      "2   3   Allen       sub4\n",
      "3   4   Alice       sub6\n",
      "4   5  Ayoung       sub5\n",
      "   id    Name subject_id\n",
      "0   1    Alex       sub2\n",
      "1   2     Amy       sub4\n",
      "2   3   Allen       sub3\n",
      "3   4   Alice       sub6\n",
      "4   5  Ayoung       sub5\n",
      "   id    Name subject_id\n",
      "0   4   Alice       sub6\n",
      "1   5  Ayoung       sub5\n"
     ]
    }
   ],
   "source": [
    "# import the pandas library \n",
    "import pandas as pd \n",
    "left = pd.DataFrame({ \n",
    "               'id':[1,2,3,4,5], \n",
    "               'Name': ['Alex', 'Amy', 'Allen', 'Alice', 'Ayoung'],                                        'subject_id':['sub1','sub2','sub4','sub6','sub5']}) \n",
    "right = pd.DataFrame( \n",
    "             {'id':[1,2,3,4,5], \n",
    "              'Name': ['Alex', 'Amy', 'Allen', 'Alice', 'Ayoung'],        'subject_id':['sub2','sub4','sub3','sub6','sub5']})\n",
    "print(left) \n",
    "print(right)\n",
    "lk = pd.merge(left, right, how='inner', on=None, left_on=None, right_on=None, left_index=False, right_index=False, sort=True)\n",
    "print(lk)"
   ]
  },
  {
   "cell_type": "code",
   "execution_count": 5,
   "id": "91e74c3b",
   "metadata": {},
   "outputs": [
    {
     "name": "stdout",
     "output_type": "stream",
     "text": [
      "     Name subject_id  Marks_scored\n",
      "1    Alex       sub1            98\n",
      "2     Amy       sub2            90\n",
      "3   Allen       sub4            87\n",
      "4   Alice       sub6            69\n",
      "5  Ayoung       sub5            78\n",
      "1   Billy       sub2            89\n",
      "2   Brian       sub4            80\n",
      "3    Bran       sub3            79\n",
      "4   Bryce       sub6            97\n",
      "5   Betty       sub5            88\n"
     ]
    }
   ],
   "source": [
    "import pandas as pd \n",
    "one = pd.DataFrame({ 'Name': ['Alex', 'Amy', 'Allen', 'Alice', 'Ayoung'],           'subject_id':['sub1','sub2','sub4','sub6','sub5'], 'Marks_scored':[98,90,87,69,78]}, index=[1,2,3,4,5])\n",
    "two = pd.DataFrame({ 'Name': ['Billy', 'Brian', 'Bran', 'Bryce', 'Betty'], 'subject_id':['sub2','sub4','sub3','sub6','sub5'],\n",
    " 'Marks_scored':[89,80,79,97,88]}, \n",
    "index=[1,2,3,4,5])\n",
    "print (pd.concat([one,two]))\n"
   ]
  },
  {
   "cell_type": "code",
   "execution_count": 9,
   "id": "9f293756",
   "metadata": {},
   "outputs": [
    {
     "name": "stdout",
     "output_type": "stream",
     "text": [
      "<!DOCTYPE html>\n",
      "<html lang=\"en-US\">\n",
      " <head>\n",
      "  <title>\n",
      "   Python - Overview\n",
      "  </title>\n",
      "  <meta charset=\"utf-8\"/>\n",
      "  <meta content=\"Python - Overview,  Python is a high-level, interpreted, interactive and object-oriented scripti\n"
     ]
    }
   ],
   "source": [
    "import urllib\n",
    "from bs4 import BeautifulSoup\n",
    "\n",
    "# Fetch the html file\n",
    "response = urllib.request.urlopen('http://tutorialspoint.com/python/python_overview.htm')\n",
    "html_doc = response.read()\n",
    "# Parse the html file\n",
    "soup = BeautifulSoup(html_doc, 'html.parser')\n",
    "\n",
    "# Format the parsed html file\n",
    "strhtm = soup.prettify()\n",
    "\n",
    "# Print the first few characters\n",
    "print(strhtm[:225])\n"
   ]
  },
  {
   "cell_type": "code",
   "execution_count": null,
   "id": "f3c58471",
   "metadata": {},
   "outputs": [],
   "source": []
  },
  {
   "cell_type": "code",
   "execution_count": null,
   "id": "fd527d3a",
   "metadata": {},
   "outputs": [],
   "source": []
  }
 ],
 "metadata": {
  "kernelspec": {
   "display_name": "Python 3",
   "language": "python",
   "name": "python3"
  },
  "language_info": {
   "codemirror_mode": {
    "name": "ipython",
    "version": 3
   },
   "file_extension": ".py",
   "mimetype": "text/x-python",
   "name": "python",
   "nbconvert_exporter": "python",
   "pygments_lexer": "ipython3",
   "version": "3.8.8"
  }
 },
 "nbformat": 4,
 "nbformat_minor": 5
}
